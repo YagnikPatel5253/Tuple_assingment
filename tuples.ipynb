{
 "cells": [
  {
   "cell_type": "code",
   "execution_count": 1,
   "id": "9dc646fe-66b8-4f55-a6ba-4cb2696311e0",
   "metadata": {},
   "outputs": [],
   "source": [
    "#Question 1\n",
    "#tuples is an datatype that we cannot change. It is immutable we cannot change it like list."
   ]
  },
  {
   "cell_type": "code",
   "execution_count": 2,
   "id": "123e120f-dd3f-41c5-965b-0cb45924ca6d",
   "metadata": {},
   "outputs": [
    {
     "data": {
      "text/plain": [
       "(1, 5, 4)"
      ]
     },
     "execution_count": 2,
     "metadata": {},
     "output_type": "execute_result"
    }
   ],
   "source": [
    "#Question 2\n",
    "#Example\n",
    "number = (1,5,4)\n",
    "number"
   ]
  },
  {
   "cell_type": "code",
   "execution_count": 3,
   "id": "dad4026b-23bb-4b90-8dee-e766021928a2",
   "metadata": {},
   "outputs": [],
   "source": [
    "#Question 3\n",
    "#Tuple is an element that we can not change it's index like list but when it comes to list, we can easily change it's index."
   ]
  },
  {
   "cell_type": "code",
   "execution_count": 4,
   "id": "3f4e8bbb-a6f2-4a06-9739-d9fbe433554c",
   "metadata": {},
   "outputs": [],
   "source": [
    "#Question 4\n",
    "#Tuple can not change in python becuase it is immutable."
   ]
  },
  {
   "cell_type": "code",
   "execution_count": 5,
   "id": "7a9c2162-968c-4557-a0bb-df0dda98b4f2",
   "metadata": {},
   "outputs": [
    {
     "data": {
      "text/plain": [
       "'yagnik'"
      ]
     },
     "execution_count": 5,
     "metadata": {},
     "output_type": "execute_result"
    }
   ],
   "source": [
    "#Question 5\n",
    "#We can access element in tuple by giving them indexing\n",
    "#for instace\n",
    "name1 = ('yagnik','naman')\n",
    "name1[0]"
   ]
  },
  {
   "cell_type": "code",
   "execution_count": 7,
   "id": "356cdfb5-e7af-4e9d-ad2e-5e2607ec32d1",
   "metadata": {},
   "outputs": [
    {
     "name": "stdout",
     "output_type": "stream",
     "text": [
      "10\n",
      "5\n",
      "4\n"
     ]
    }
   ],
   "source": [
    "#Question 6\n",
    "#we can unpack a tuple by assigning its individual elements to variables\n",
    "#example\n",
    "tuple1 = (10,5,4)\n",
    "a,b,c = tuple1\n",
    "print(a)\n",
    "print(b)\n",
    "print(c)"
   ]
  }
 ],
 "metadata": {
  "kernelspec": {
   "display_name": "Python 3 (ipykernel)",
   "language": "python",
   "name": "python3"
  },
  "language_info": {
   "codemirror_mode": {
    "name": "ipython",
    "version": 3
   },
   "file_extension": ".py",
   "mimetype": "text/x-python",
   "name": "python",
   "nbconvert_exporter": "python",
   "pygments_lexer": "ipython3",
   "version": "3.10.8"
  }
 },
 "nbformat": 4,
 "nbformat_minor": 5
}
